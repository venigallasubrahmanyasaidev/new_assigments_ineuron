{
 "cells": [
  {
   "cell_type": "markdown",
   "id": "ca5a422e",
   "metadata": {},
   "source": [
    "1) Write a Python program to print \"Hello Python\"?\n"
   ]
  },
  {
   "cell_type": "code",
   "execution_count": 1,
   "id": "ef1c97ef",
   "metadata": {},
   "outputs": [
    {
     "name": "stdout",
     "output_type": "stream",
     "text": [
      "Hello Python\n"
     ]
    }
   ],
   "source": [
    "print(\"Hello Python\")"
   ]
  },
  {
   "cell_type": "markdown",
   "id": "8f36027d",
   "metadata": {},
   "source": [
    "2) Write a Python program to do arithmetical operations addition and division.?"
   ]
  },
  {
   "cell_type": "code",
   "execution_count": 14,
   "id": "7785df8a",
   "metadata": {},
   "outputs": [
    {
     "name": "stdout",
     "output_type": "stream",
     "text": [
      "enter the a vale: 20\n",
      "enter the b vale: 4\n",
      "arithmetical operation addition : 24\n",
      "arithmetical operation division : 5\n"
     ]
    }
   ],
   "source": [
    "a=int(input(\"enter the a vale: \"))\n",
    "b=int(input(\"enter the b vale: \"))\n",
    "c=a+b\n",
    "d=a//b\n",
    "print(\"arithmetical operation addition :\",c)\n",
    "print(\"arithmetical operation division :\",d)"
   ]
  },
  {
   "cell_type": "markdown",
   "id": "7b6bec47",
   "metadata": {},
   "source": [
    "3) Write a Python program to find the area of a triangle?"
   ]
  },
  {
   "cell_type": "code",
   "execution_count": 13,
   "id": "1d6353a1",
   "metadata": {},
   "outputs": [
    {
     "name": "stdout",
     "output_type": "stream",
     "text": [
      "enter the base vale of trangle: 20\n",
      "enter the height vale of trangle: 30\n",
      "area of a triangle : 300.0 square units\n"
     ]
    }
   ],
   "source": [
    "B=int(input(\"enter the base vale of trangle: \"))\n",
    "H=int(input(\"enter the height vale of trangle: \"))\n",
    "area=1/2*(B*H)\n",
    "print(\"area of a triangle :\",area,\"square units\")"
   ]
  },
  {
   "cell_type": "markdown",
   "id": "be8dd1cd",
   "metadata": {},
   "source": [
    "4) Write a Python program to swap two variables?"
   ]
  },
  {
   "cell_type": "code",
   "execution_count": 17,
   "id": "99482990",
   "metadata": {},
   "outputs": [
    {
     "name": "stdout",
     "output_type": "stream",
     "text": [
      "enter the a vale: 10\n",
      "enter the b vale: 5\n",
      "after swap of variables a: 5\n",
      "after swap of variables b: 10\n"
     ]
    }
   ],
   "source": [
    "a=int(input(\"enter the a vale: \"))\n",
    "b=int(input(\"enter the b vale: \"))\n",
    "c=a\n",
    "a=b\n",
    "b=c\n",
    "print(\"after swap of variables a:\",a)\n",
    "print(\"after swap of variables b:\",b)"
   ]
  },
  {
   "cell_type": "markdown",
   "id": "93f08fbf",
   "metadata": {},
   "source": [
    "5) Write a Python program to generate a random number?"
   ]
  },
  {
   "cell_type": "code",
   "execution_count": 27,
   "id": "730e39bd",
   "metadata": {},
   "outputs": [
    {
     "name": "stdout",
     "output_type": "stream",
     "text": [
      "enter the starting number: 12\n",
      "enter the ending number: 90\n",
      "18\n"
     ]
    }
   ],
   "source": [
    "import random\n",
    "F=int(input(\"enter the starting number: \"))\n",
    "L=int(input(\"enter the ending number: \"))\n",
    "print(random.randint(F,L+1))"
   ]
  },
  {
   "cell_type": "code",
   "execution_count": null,
   "id": "638e1da4",
   "metadata": {},
   "outputs": [],
   "source": []
  }
 ],
 "metadata": {
  "kernelspec": {
   "display_name": "Python 3 (ipykernel)",
   "language": "python",
   "name": "python3"
  },
  "language_info": {
   "codemirror_mode": {
    "name": "ipython",
    "version": 3
   },
   "file_extension": ".py",
   "mimetype": "text/x-python",
   "name": "python",
   "nbconvert_exporter": "python",
   "pygments_lexer": "ipython3",
   "version": "3.9.7"
  }
 },
 "nbformat": 4,
 "nbformat_minor": 5
}
