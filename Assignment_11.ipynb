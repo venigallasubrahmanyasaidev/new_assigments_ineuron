{
 "cells": [
  {
   "cell_type": "markdown",
   "id": "dcce1ca4",
   "metadata": {},
   "source": [
    "1. Create an assert statement that throws an AssertionError if the variable spam is a negative integer."
   ]
  },
  {
   "cell_type": "code",
   "execution_count": 1,
   "id": "728c990b",
   "metadata": {},
   "outputs": [
    {
     "ename": "AssertionError",
     "evalue": "enter positive number",
     "output_type": "error",
     "traceback": [
      "\u001b[1;31m---------------------------------------------------------------------------\u001b[0m",
      "\u001b[1;31mAssertionError\u001b[0m                            Traceback (most recent call last)",
      "Input \u001b[1;32mIn [1]\u001b[0m, in \u001b[0;36m<cell line: 4>\u001b[1;34m()\u001b[0m\n\u001b[0;32m      1\u001b[0m \u001b[38;5;28;01mdef\u001b[39;00m \u001b[38;5;21mcheck_neg\u001b[39m(spam):\n\u001b[0;32m      2\u001b[0m     \u001b[38;5;28;01massert\u001b[39;00m spam\u001b[38;5;241m>\u001b[39m\u001b[38;5;241m0\u001b[39m , \u001b[38;5;124m\"\u001b[39m\u001b[38;5;124menter positive number\u001b[39m\u001b[38;5;124m\"\u001b[39m\n\u001b[1;32m----> 4\u001b[0m \u001b[43mcheck_neg\u001b[49m\u001b[43m(\u001b[49m\u001b[38;5;241;43m-\u001b[39;49m\u001b[38;5;241;43m1\u001b[39;49m\u001b[43m)\u001b[49m\n",
      "Input \u001b[1;32mIn [1]\u001b[0m, in \u001b[0;36mcheck_neg\u001b[1;34m(spam)\u001b[0m\n\u001b[0;32m      1\u001b[0m \u001b[38;5;28;01mdef\u001b[39;00m \u001b[38;5;21mcheck_neg\u001b[39m(spam):\n\u001b[1;32m----> 2\u001b[0m     \u001b[38;5;28;01massert\u001b[39;00m spam\u001b[38;5;241m>\u001b[39m\u001b[38;5;241m0\u001b[39m , \u001b[38;5;124m\"\u001b[39m\u001b[38;5;124menter positive number\u001b[39m\u001b[38;5;124m\"\u001b[39m\n",
      "\u001b[1;31mAssertionError\u001b[0m: enter positive number"
     ]
    }
   ],
   "source": [
    "def check_neg(spam):\n",
    "    assert spam>0 , \"enter positive number\"\n",
    "    \n",
    "check_neg(-1)"
   ]
  },
  {
   "cell_type": "markdown",
   "id": "e062c813",
   "metadata": {},
   "source": [
    "2. Write an assert statement that triggers an AssertionError if the variables eggs and bacon contain strings that are the same as each other, even if their cases are different (that is, 'hello' and 'hello' are considered the ame, and 'goodbye' and 'GOODbye' are also considered the same)."
   ]
  },
  {
   "cell_type": "code",
   "execution_count": 2,
   "id": "94cf15d4",
   "metadata": {},
   "outputs": [],
   "source": [
    "def assert_stat(eggs, bacon):\n",
    "    eggs = eggs.lower()\n",
    "    bacon = bacon.lower()\n",
    "    assert eggs==bacon, \"Enter same words\"\n",
    "    \n",
    "eggs = \"goodbye\"\n",
    "bacon = \"GOODbye\"\n",
    "assert_stat(eggs,bacon)"
   ]
  },
  {
   "cell_type": "code",
   "execution_count": 3,
   "id": "e1e2aa1f",
   "metadata": {},
   "outputs": [
    {
     "ename": "AssertionError",
     "evalue": "Enter same words and also check the lower and upper case",
     "output_type": "error",
     "traceback": [
      "\u001b[1;31m---------------------------------------------------------------------------\u001b[0m",
      "\u001b[1;31mAssertionError\u001b[0m                            Traceback (most recent call last)",
      "Input \u001b[1;32mIn [3]\u001b[0m, in \u001b[0;36m<cell line: 7>\u001b[1;34m()\u001b[0m\n\u001b[0;32m      5\u001b[0m eggs \u001b[38;5;241m=\u001b[39m \u001b[38;5;124m\"\u001b[39m\u001b[38;5;124mgoodbye\u001b[39m\u001b[38;5;124m\"\u001b[39m\n\u001b[0;32m      6\u001b[0m bacon \u001b[38;5;241m=\u001b[39m \u001b[38;5;124m\"\u001b[39m\u001b[38;5;124mGOODbye\u001b[39m\u001b[38;5;124m\"\u001b[39m\n\u001b[1;32m----> 7\u001b[0m \u001b[43massert_stat\u001b[49m\u001b[43m(\u001b[49m\u001b[43meggs\u001b[49m\u001b[43m,\u001b[49m\u001b[43mbacon\u001b[49m\u001b[43m)\u001b[49m\n",
      "Input \u001b[1;32mIn [3]\u001b[0m, in \u001b[0;36massert_stat\u001b[1;34m(eggs, bacon)\u001b[0m\n\u001b[0;32m      1\u001b[0m \u001b[38;5;28;01mdef\u001b[39;00m \u001b[38;5;21massert_stat\u001b[39m(eggs, bacon):\n\u001b[1;32m----> 3\u001b[0m     \u001b[38;5;28;01massert\u001b[39;00m eggs\u001b[38;5;241m==\u001b[39mbacon, \u001b[38;5;124m\"\u001b[39m\u001b[38;5;124mEnter same words and also check the lower and upper case\u001b[39m\u001b[38;5;124m\"\u001b[39m\n",
      "\u001b[1;31mAssertionError\u001b[0m: Enter same words and also check the lower and upper case"
     ]
    }
   ],
   "source": [
    "def assert_stat(eggs, bacon):\n",
    "    \n",
    "    assert eggs==bacon, \"Enter same words and also check the lower and upper case\"\n",
    "    \n",
    "eggs = \"goodbye\"\n",
    "bacon = \"GOODbye\"\n",
    "assert_stat(eggs,bacon)"
   ]
  },
  {
   "cell_type": "markdown",
   "id": "c36cb324",
   "metadata": {},
   "source": [
    "3. Create an assert statement that throws an AssertionError every time."
   ]
  },
  {
   "cell_type": "code",
   "execution_count": 4,
   "id": "7b09e91d",
   "metadata": {},
   "outputs": [
    {
     "ename": "AssertionError",
     "evalue": "Assertion statement everytime",
     "output_type": "error",
     "traceback": [
      "\u001b[1;31m---------------------------------------------------------------------------\u001b[0m",
      "\u001b[1;31mAssertionError\u001b[0m                            Traceback (most recent call last)",
      "Input \u001b[1;32mIn [4]\u001b[0m, in \u001b[0;36m<cell line: 4>\u001b[1;34m()\u001b[0m\n\u001b[0;32m      1\u001b[0m \u001b[38;5;28;01mdef\u001b[39;00m \u001b[38;5;21malways_error\u001b[39m():\n\u001b[0;32m      2\u001b[0m     \u001b[38;5;28;01massert\u001b[39;00m \u001b[38;5;28;01mFalse\u001b[39;00m, \u001b[38;5;124m\"\u001b[39m\u001b[38;5;124mAssertion statement everytime\u001b[39m\u001b[38;5;124m\"\u001b[39m\n\u001b[1;32m----> 4\u001b[0m \u001b[43malways_error\u001b[49m\u001b[43m(\u001b[49m\u001b[43m)\u001b[49m\n",
      "Input \u001b[1;32mIn [4]\u001b[0m, in \u001b[0;36malways_error\u001b[1;34m()\u001b[0m\n\u001b[0;32m      1\u001b[0m \u001b[38;5;28;01mdef\u001b[39;00m \u001b[38;5;21malways_error\u001b[39m():\n\u001b[1;32m----> 2\u001b[0m     \u001b[38;5;28;01massert\u001b[39;00m \u001b[38;5;28;01mFalse\u001b[39;00m, \u001b[38;5;124m\"\u001b[39m\u001b[38;5;124mAssertion statement everytime\u001b[39m\u001b[38;5;124m\"\u001b[39m\n",
      "\u001b[1;31mAssertionError\u001b[0m: Assertion statement everytime"
     ]
    }
   ],
   "source": [
    "def always_error():\n",
    "    assert False, \"Assertion statement everytime\"\n",
    "    \n",
    "always_error()"
   ]
  },
  {
   "cell_type": "markdown",
   "id": "aae85b0b",
   "metadata": {},
   "source": [
    "4. What are the two lines that must be present in your software in order to call logging.debug()?"
   ]
  },
  {
   "cell_type": "code",
   "execution_count": 6,
   "id": "42ec9093",
   "metadata": {},
   "outputs": [],
   "source": [
    "import logging as lg\n",
    "lg.basicConfig(level=lg.DEBUG, format=' %(asctime)s - %(levelname)s - %(message)s')"
   ]
  },
  {
   "cell_type": "markdown",
   "id": "6b42ed45",
   "metadata": {},
   "source": [
    "5. What are the two lines that your program must have in order to have logging.debug() send a logging message to a file named programLog.txt?"
   ]
  },
  {
   "cell_type": "code",
   "execution_count": 7,
   "id": "4e731383",
   "metadata": {},
   "outputs": [],
   "source": [
    "import logging as lg\n",
    "lg.basicConfig(filename='programLog.txt', level=lg.DEBUG, format=' %(asctime)s - %(levelname)s - %(message)s')"
   ]
  },
  {
   "cell_type": "markdown",
   "id": "58730e19",
   "metadata": {},
   "source": [
    "6. What are the five levels of logging?\n",
    "\n",
    "Five level of loggins are DEBUG, INFO, WARNING, ERROR, and CRITICAL\n",
    "\n",
    "logging.debug() - variable's state and small details\n",
    "\n",
    "logging.info() - general events, confirm a program is working\n",
    "\n",
    "logging.warning() - potiental problem to work on in the future\n",
    "\n",
    "logging.error() - record an error that caused program to fail to do something\n",
    "\n",
    "logging.critical() - fatal error that has caused"
   ]
  },
  {
   "cell_type": "code",
   "execution_count": 9,
   "id": "3b496be0",
   "metadata": {},
   "outputs": [],
   "source": [
    "#7. What line of code would you add to your software to disable all logging messages?\n",
    "import logging as lg\n",
    "lg.disable(lg.CRITICAL)"
   ]
  },
  {
   "cell_type": "markdown",
   "id": "ce2b8f0d",
   "metadata": {},
   "source": [
    "8.Why is using logging messages better than using print() to display the same message?\n",
    "\n",
    "print is used when you want to display any particular message or help whereas logging is used to record all events like \n",
    "error, info, debug messages, timestamps."
   ]
  },
  {
   "cell_type": "markdown",
   "id": "e81fa316",
   "metadata": {},
   "source": [
    "9. What are the differences between the Step Over, Step In, and Step Out buttons in the debugger?\n",
    "\n",
    "Step Over:\n",
    "\n",
    "         This button will step over i.e. it will execute that line but result returned without debugging.\n",
    "         \n",
    "Step In:\n",
    "\n",
    "       This button helps entering debugger and start debugging line by line.\n",
    "       \n",
    "Step Out:\n",
    "\n",
    "        This breaks out of the debugger."
   ]
  },
  {
   "cell_type": "markdown",
   "id": "9de36724",
   "metadata": {},
   "source": [
    "10.After you click Continue, when will the debugger stop ?\n",
    "\n",
    "This will cause the program to continue running normally, without pausing for debugging  untill it is completed."
   ]
  },
  {
   "cell_type": "markdown",
   "id": "096d62de",
   "metadata": {},
   "source": [
    "11. What is the concept of a breakpoint?\n",
    "\n",
    "this will help step line by line through the code."
   ]
  },
  {
   "cell_type": "code",
   "execution_count": null,
   "id": "17a6ed92",
   "metadata": {},
   "outputs": [],
   "source": []
  }
 ],
 "metadata": {
  "kernelspec": {
   "display_name": "Python 3 (ipykernel)",
   "language": "python",
   "name": "python3"
  },
  "language_info": {
   "codemirror_mode": {
    "name": "ipython",
    "version": 3
   },
   "file_extension": ".py",
   "mimetype": "text/x-python",
   "name": "python",
   "nbconvert_exporter": "python",
   "pygments_lexer": "ipython3",
   "version": "3.9.12"
  }
 },
 "nbformat": 4,
 "nbformat_minor": 5
}
