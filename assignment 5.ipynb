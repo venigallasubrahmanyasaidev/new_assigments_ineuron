{
 "cells": [
  {
   "cell_type": "markdown",
   "id": "1e4a2713",
   "metadata": {},
   "source": [
    "1. What does an empty dictionary's code look like?\n",
    "\n",
    "\n",
    "s= {}"
   ]
  },
  {
   "cell_type": "code",
   "execution_count": 1,
   "id": "e9b8905f",
   "metadata": {},
   "outputs": [
    {
     "data": {
      "text/plain": [
       "{'foo': 42}"
      ]
     },
     "execution_count": 1,
     "metadata": {},
     "output_type": "execute_result"
    }
   ],
   "source": [
    "# 2. What is the value of a dictionary value with the key 'foo' and the value 42?\n",
    "d = {'foo':42}\n",
    "d"
   ]
  },
  {
   "cell_type": "markdown",
   "id": "fae45721",
   "metadata": {},
   "source": [
    "3. What is the most significant distinction between a dictionary and a list?\n",
    "\n",
    "dictionary has a key value pair as one entity whereas there are individual elements in list"
   ]
  },
  {
   "cell_type": "code",
   "execution_count": 4,
   "id": "6548c80a",
   "metadata": {},
   "outputs": [
    {
     "name": "stdout",
     "output_type": "stream",
     "text": [
      "it will give an keyError\n"
     ]
    },
    {
     "ename": "KeyError",
     "evalue": "'foo'",
     "output_type": "error",
     "traceback": [
      "\u001b[1;31m---------------------------------------------------------------------------\u001b[0m",
      "\u001b[1;31mKeyError\u001b[0m                                  Traceback (most recent call last)",
      "\u001b[1;32m~\\AppData\\Local\\Temp/ipykernel_12012/1171403277.py\u001b[0m in \u001b[0;36m<module>\u001b[1;34m\u001b[0m\n\u001b[0;32m      3\u001b[0m \u001b[0mprint\u001b[0m\u001b[1;33m(\u001b[0m\u001b[1;34m\"it will give an keyError\"\u001b[0m\u001b[1;33m)\u001b[0m\u001b[1;33m\u001b[0m\u001b[1;33m\u001b[0m\u001b[0m\n\u001b[0;32m      4\u001b[0m \u001b[0mspam\u001b[0m \u001b[1;33m=\u001b[0m \u001b[1;33m{\u001b[0m\u001b[1;34m'bar'\u001b[0m\u001b[1;33m:\u001b[0m \u001b[1;36m100\u001b[0m\u001b[1;33m}\u001b[0m\u001b[1;33m\u001b[0m\u001b[1;33m\u001b[0m\u001b[0m\n\u001b[1;32m----> 5\u001b[1;33m \u001b[0mspam\u001b[0m\u001b[1;33m[\u001b[0m\u001b[1;34m'foo'\u001b[0m\u001b[1;33m]\u001b[0m\u001b[1;33m\u001b[0m\u001b[1;33m\u001b[0m\u001b[0m\n\u001b[0m",
      "\u001b[1;31mKeyError\u001b[0m: 'foo'"
     ]
    }
   ],
   "source": [
    "# 4. What happens if you try to access spam['foo'] if spam is {'bar': 100}?\n",
    "\n",
    "print(\"it will give an keyError\")\n",
    "spam = {'bar': 100}\n",
    "spam['foo']  \n"
   ]
  },
  {
   "cell_type": "markdown",
   "id": "5902f83d",
   "metadata": {},
   "source": [
    "5. If a dictionary is stored in spam, what is the difference between the expressions 'cat' in spam and\n",
    "'cat' in spam.keys()?"
   ]
  },
  {
   "cell_type": "code",
   "execution_count": 7,
   "id": "0863bb48",
   "metadata": {},
   "outputs": [
    {
     "name": "stdout",
     "output_type": "stream",
     "text": [
      "it checks weather 'cat' is present in dictionary as a key.\n"
     ]
    },
    {
     "data": {
      "text/plain": [
       "True"
      ]
     },
     "execution_count": 7,
     "metadata": {},
     "output_type": "execute_result"
    }
   ],
   "source": [
    "print(\"it checks weather 'cat' is present in dictionary as a key.\")\n",
    "spam ={'cat':100}\n",
    "'cat' in spam.keys()"
   ]
  },
  {
   "cell_type": "markdown",
   "id": "53ac9d17",
   "metadata": {},
   "source": [
    "6. If a dictionary is stored in spam, what is the difference between the expressions &#39;cat&#39; in spam and\n",
    "'cat' in spam.values()?"
   ]
  },
  {
   "cell_type": "code",
   "execution_count": 10,
   "id": "b17d699c",
   "metadata": {},
   "outputs": [
    {
     "name": "stdout",
     "output_type": "stream",
     "text": [
      "False\n",
      "cat in spam checks whether there is a 'cat' key in the dictionary\n",
      "cat in spam.values() checks whether there is a value 'cat' for one of the keys in spam\n"
     ]
    }
   ],
   "source": [
    "spam ={'cat':100}\n",
    "print('cat' in spam.values())\n",
    "print(\"cat in spam checks whether there is a 'cat' key in the dictionary\")\n",
    "print(\"cat in spam.values() checks whether there is a value 'cat' for one of the keys in spam\")"
   ]
  },
  {
   "cell_type": "markdown",
   "id": "49dc902b",
   "metadata": {},
   "source": [
    "7. What is a shortcut for the following code?\n",
    "\n",
    "if 'color' not in spam:\n",
    "\n",
    "spam['color'] = 'black'"
   ]
  },
  {
   "cell_type": "code",
   "execution_count": 12,
   "id": "a770c20f",
   "metadata": {},
   "outputs": [
    {
     "data": {
      "text/plain": [
       "{'cat': 'buddi', 'color': 'black'}"
      ]
     },
     "execution_count": 12,
     "metadata": {},
     "output_type": "execute_result"
    }
   ],
   "source": [
    "spam ={'cat':\"buddi\"}\n",
    "spam.setdefault('color','black')\n",
    "spam"
   ]
  },
  {
   "cell_type": "code",
   "execution_count": 17,
   "id": "8a787236",
   "metadata": {},
   "outputs": [
    {
     "name": "stdout",
     "output_type": "stream",
     "text": [
      "[{'Name': 'Sai', 'company': 'overt', 'location': 'bangalore'},\n",
      " {'Name': 'pavan', 'company': 'tcs', 'location': 'hyderabad'}]\n",
      "_____________________________________________________________________\n",
      "[{'Name': 'Sai', 'company': 'overt', 'location': 'bangalore'}, {'Name': 'pavan', 'company': 'tcs', 'location': 'hyderabad'}]\n"
     ]
    }
   ],
   "source": [
    "# 8. How do you &quot;pretty print&quot; dictionary values using which module and function?\n",
    "\n",
    "import pprint\n",
    "dct = [ {'Name': 'Sai', 'company': 'overt', 'location': 'bangalore'},\n",
    "  {'Name': 'pavan', 'company': 'tcs', 'location': 'hyderabad'}\n",
    "]\n",
    "\n",
    "pprint.pprint(dct)\n",
    "\n",
    "print(\"_____________________________________________________________________\")\n",
    "\n",
    "print(dct)"
   ]
  },
  {
   "cell_type": "code",
   "execution_count": null,
   "id": "ac518f94",
   "metadata": {},
   "outputs": [],
   "source": []
  }
 ],
 "metadata": {
  "kernelspec": {
   "display_name": "Python 3 (ipykernel)",
   "language": "python",
   "name": "python3"
  },
  "language_info": {
   "codemirror_mode": {
    "name": "ipython",
    "version": 3
   },
   "file_extension": ".py",
   "mimetype": "text/x-python",
   "name": "python",
   "nbconvert_exporter": "python",
   "pygments_lexer": "ipython3",
   "version": "3.9.7"
  }
 },
 "nbformat": 4,
 "nbformat_minor": 5
}
