{
 "cells": [
  {
   "cell_type": "markdown",
   "id": "42045ae7",
   "metadata": {},
   "source": [
    "1. To what does a relative path refer?\n",
    "\n",
    "relative path shows current working directory path\n",
    "\n",
    "its like :\"C:\\Users\\vssai\\Downloads\\AgentPerformance.csv\""
   ]
  },
  {
   "cell_type": "code",
   "execution_count": 2,
   "id": "1beb4b21",
   "metadata": {},
   "outputs": [
    {
     "data": {
      "text/plain": [
       "'Downloads\\\\AgentPerformance.csv'"
      ]
     },
     "execution_count": 2,
     "metadata": {},
     "output_type": "execute_result"
    }
   ],
   "source": [
    "import os\n",
    "path = r\"C:\\Users\\vssai\\Downloads\\AgentPerformance.csv\"\n",
    "os.path.relpath(path)"
   ]
  },
  {
   "cell_type": "markdown",
   "id": "b7e3578b",
   "metadata": {},
   "source": [
    "2. What does an absolute path start with your operating system?\n",
    "\n",
    "absolute path = pwd + relative path\n",
    "\n",
    "absolute path always starts with rootdi directory"
   ]
  },
  {
   "cell_type": "code",
   "execution_count": 3,
   "id": "5351f86e",
   "metadata": {},
   "outputs": [
    {
     "data": {
      "text/plain": [
       "'C:\\\\Users\\\\vssai\\\\Downloads\\\\AgentPerformance.csv'"
      ]
     },
     "execution_count": 3,
     "metadata": {},
     "output_type": "execute_result"
    }
   ],
   "source": [
    "os.path.abspath(path)"
   ]
  },
  {
   "cell_type": "markdown",
   "id": "24779f36",
   "metadata": {},
   "source": [
    "3. What do the functions os.getcwd() and os.chdir() do?\n",
    "\n",
    "os.chdir() performs change directory\n",
    "\n",
    "os.getcwd() gives current working directory"
   ]
  },
  {
   "cell_type": "markdown",
   "id": "41c1ca1c",
   "metadata": {},
   "source": [
    "4. What are the . and .. folders?\n",
    "\n",
    "these are not real folder but are special names for path\n",
    "\n",
    "    (.) = this directory\n",
    "    \n",
    "    (..)= parent directory"
   ]
  },
  {
   "cell_type": "markdown",
   "id": "5382d778",
   "metadata": {},
   "source": [
    "5. In C:\\bacon\\eggs\\spam.txt, which part is the dir name, and which part is the base name?\n",
    "    \n",
    "C:\\bacon\\eggs --> dir name\n",
    "\n",
    "spam.txt --> base name"
   ]
  },
  {
   "cell_type": "markdown",
   "id": "7558e39f",
   "metadata": {},
   "source": [
    "6. What are the three “mode” arguments that can be passed to the open() function?\n",
    "\n",
    "Three mode arguments are:\n",
    "    \n",
    "    1. 'r' --> open for reading in text mode.\n",
    "    \n",
    "    2. 'w' --> open for writing.\n",
    "    \n",
    "    3. 'a' --> open for appending."
   ]
  },
  {
   "cell_type": "markdown",
   "id": "5666a91f",
   "metadata": {},
   "source": [
    "7. What happens if an existing file is opened in write mode?\n",
    "\n",
    "when an existing file is opened in write mode previous content is erased and file is treated as \n",
    "new empty file."
   ]
  },
  {
   "cell_type": "markdown",
   "id": "9c0a0579",
   "metadata": {},
   "source": [
    "8. How do you tell the difference between read() and readlines()?\n",
    "\n",
    "read()      --> it iterates over each character.\n",
    "\n",
    "readlines() --> read only single line of the file."
   ]
  },
  {
   "cell_type": "markdown",
   "id": "57a65305",
   "metadata": {},
   "source": [
    "9. What data structure does a shelf value resemble?\n",
    "\n",
    "As it contains key and values it represents dictionary."
   ]
  },
  {
   "cell_type": "code",
   "execution_count": null,
   "id": "bb359795",
   "metadata": {},
   "outputs": [],
   "source": []
  }
 ],
 "metadata": {
  "kernelspec": {
   "display_name": "Python 3 (ipykernel)",
   "language": "python",
   "name": "python3"
  },
  "language_info": {
   "codemirror_mode": {
    "name": "ipython",
    "version": 3
   },
   "file_extension": ".py",
   "mimetype": "text/x-python",
   "name": "python",
   "nbconvert_exporter": "python",
   "pygments_lexer": "ipython3",
   "version": "3.9.12"
  }
 },
 "nbformat": 4,
 "nbformat_minor": 5
}
