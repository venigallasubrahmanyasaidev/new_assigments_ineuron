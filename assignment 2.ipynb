{
 "cells": [
  {
   "cell_type": "markdown",
   "id": "3664f542",
   "metadata": {},
   "source": [
    "1.What are the two values of the Boolean data type? How do you write them?\n",
    "\n",
    "There are just two values of type bool: true and false. They are used as the values of expressions that have yes-or-no answers. using capital T and F, with the rest of the word in lowercase \n"
   ]
  },
  {
   "cell_type": "raw",
   "id": "ebdf5979",
   "metadata": {},
   "source": [
    "2. What are the three different types of Boolean operators?\n",
    "\n",
    "There are three Boolean  operators  those are  AND, OR, and NOT. These are used for connecting two or more expressions \n"
   ]
  },
  {
   "cell_type": "markdown",
   "id": "a1d39f10",
   "metadata": {},
   "source": [
    "3.Make a list of each Boolean operator’s truth tables (i.e. every possible combination of Boolean values for the operator and what it evaluate).\n",
    "\n",
    "Truth Table for AND \n",
    "\n",
    "True and True is True.        0 0 0\n",
    "True and False is False.      1 0 0\n",
    "False and True is False.      0 1 0\n",
    "False and False is False.     1 1 1\n",
    "\n",
    "Truth Table for OR\n",
    "\n",
    "True or True is True.        0 0 0\n",
    "True or False is True.       0 1 1\n",
    "False or True is True.       1 0 1\n",
    "False or False is False.     1 1 1\n"
   ]
  },
  {
   "cell_type": "code",
   "execution_count": 1,
   "id": "5f31a578",
   "metadata": {},
   "outputs": [
    {
     "name": "stdout",
     "output_type": "stream",
     "text": [
      "False\n",
      "False\n",
      "True\n",
      "False\n",
      "False\n",
      "True\n"
     ]
    }
   ],
   "source": [
    "\"\"\" 4. What are the values of the following expressions?\"\"\"\n",
    "\n",
    "print((5>4) and (3==5))\n",
    "print(not(5>4))\n",
    "print((5>4) or (3==5))\n",
    "print(not(5>4) or (3==5))\n",
    "print((True and True) and (True==False))\n",
    "print((not(False))or(not(True)))"
   ]
  },
  {
   "cell_type": "raw",
   "id": "9a117d43",
   "metadata": {},
   "source": [
    "5. What are the six comparison operators?\n",
    "\n",
    " ==, !=, <, >, <=, and >="
   ]
  },
  {
   "cell_type": "code",
   "execution_count": 4,
   "id": "cb479218",
   "metadata": {},
   "outputs": [
    {
     "name": "stdout",
     "output_type": "stream",
     "text": [
      "False\n",
      "False\n",
      "False\n",
      "a= 20\n",
      "b= 30\n",
      "c= 40\n"
     ]
    }
   ],
   "source": [
    "\"\"\"6. How do you tell the difference between the equal to and assignment operators?Describe a\n",
    "condition and when you would use one.\n",
    "\n",
    "Assignment  mark is used to assign a value to a variable and  Equal to  marks is used to check whether two expressions give the same value .\n",
    "\n",
    "= is an assignment operator\n",
    "\n",
    "== \"\"\"\n",
    "\n",
    "a=20\n",
    "b=30\n",
    "c=40\n",
    "#is checking whether two expressions give the same value\n",
    "print(a==c)\n",
    "\n",
    "print(b==a)\n",
    "\n",
    "print(c==a)\n",
    "\n",
    "#assign a value to a variabl\n",
    "print(\"a=\",a)\n",
    "\n",
    "print(\"b=\",b)\n",
    "\n",
    "print(\"c=\",c)\n",
    "\n",
    "\n"
   ]
  },
  {
   "cell_type": "code",
   "execution_count": 8,
   "id": "e159928a",
   "metadata": {},
   "outputs": [
    {
     "name": "stdout",
     "output_type": "stream",
     "text": [
      "ham\n",
      "spam\n",
      "spam\n"
     ]
    }
   ],
   "source": [
    "#7. Identify the three blocks in this code:\n",
    "spam = 0\n",
    "if spam == 10:     #block 1\n",
    "    print('eggs') \n",
    "if spam >5:\n",
    "    print('bacon')  #block 2\n",
    "else:\n",
    "    print('ham')    #block 3\n",
    "    print('spam')\n",
    "    print('spam')"
   ]
  },
  {
   "cell_type": "code",
   "execution_count": 7,
   "id": "1e7e857b",
   "metadata": {},
   "outputs": [
    {
     "name": "stdout",
     "output_type": "stream",
     "text": [
      "enter the number 6\n",
      "Greetings!\n"
     ]
    }
   ],
   "source": [
    "#8. Write code that prints Hello if 1 is stored in spam, prints Howdy if 2 is stored in spam, and prints Greetings! if anything else is stored in spam.\n",
    "\n",
    "spam = int(input(\"enter the number \"))\n",
    "if spam == 1:\n",
    "    print(\"Hello\")\n",
    "elif spam == 2:\n",
    "    print(\"Howdy\")\n",
    "else:\n",
    "    print(\"Greetings!\")\n",
    "\n"
   ]
  },
  {
   "cell_type": "markdown",
   "id": "3ca40620",
   "metadata": {},
   "source": [
    "9.If your programme is stuck in an endless loop, what keys you’ll press?\n",
    "\n",
    "ctrl+c is used "
   ]
  },
  {
   "cell_type": "raw",
   "id": "96cbd67b",
   "metadata": {},
   "source": [
    "10. How can you tell the difference between break and continue?\n",
    "\n",
    "break is used to terminate  curent  block of code(loop) when it satisfied the statement, continue is used to skip a particular iteration in loop and it will iterate the remaining in the loop\n"
   ]
  },
  {
   "cell_type": "code",
   "execution_count": 1,
   "id": "58d8a626",
   "metadata": {},
   "outputs": [
    {
     "name": "stdout",
     "output_type": "stream",
     "text": [
      "The range(10) call ranges from 0 up to but not including 10\n",
      "0\n",
      "1\n",
      "2\n",
      "3\n",
      "4\n",
      "5\n",
      "6\n",
      "7\n",
      "8\n",
      "9\n",
      "_____________________________________________________________________________________________________\n",
      "the range(0,10)tells the loop to start  0 (telling start point and end point)\n",
      "0\n",
      "1\n",
      "2\n",
      "3\n",
      "4\n",
      "5\n",
      "6\n",
      "7\n",
      "8\n",
      "9\n",
      "_____________________________________________________________________________________________________\n",
      "range(0, 10, 1) tells the loop to increase the variable by 1 on each iteration.\n",
      "0\n",
      "1\n",
      "2\n",
      "3\n",
      "4\n",
      "5\n",
      "6\n",
      "7\n",
      "8\n",
      "9\n",
      "_____________________________________________________________________________________________________\n",
      "range(0, 10, 2) tells the loop to increase the variable by 2 on each iteration.\n",
      "0\n",
      "2\n",
      "4\n",
      "6\n",
      "8\n"
     ]
    }
   ],
   "source": [
    "#11. In a for loop, what is the difference between range(10), range(0, 10), and range(0, 10, 1)?\n",
    "\n",
    "print(\"The range(10) call ranges from 0 up to but not including 10\") \n",
    "for i in range(10):\n",
    "    print(i)\n",
    "print(\"_____________________________________________________________________________________________________\")    \n",
    "print(r\"the range(0,10)tells the loop to start  0 (telling start point and end point)\")\n",
    "for i in range(0,10):\n",
    "    print(i)\n",
    "print(\"_____________________________________________________________________________________________________\")        \n",
    "print(\"range(0, 10, 1) tells the loop to increase the variable by 1 on each iteration.\")    \n",
    "for i in range(0,10,1):\n",
    "    print(i)\n",
    "print(\"_____________________________________________________________________________________________________\")    \n",
    "print(\"range(0, 10, 2) tells the loop to increase the variable by 2 on each iteration.\")    \n",
    "for i in range(0,10,2):\n",
    "    print(i) "
   ]
  },
  {
   "cell_type": "code",
   "execution_count": 2,
   "id": "799975ba",
   "metadata": {},
   "outputs": [
    {
     "name": "stdout",
     "output_type": "stream",
     "text": [
      "For Loop\n",
      "1\n",
      "2\n",
      "3\n",
      "4\n",
      "5\n",
      "6\n",
      "7\n",
      "8\n",
      "9\n",
      "10\n",
      "While Loop\n",
      "1\n",
      "2\n",
      "3\n",
      "4\n",
      "5\n",
      "6\n",
      "7\n",
      "8\n",
      "9\n",
      "10\n"
     ]
    }
   ],
   "source": [
    "\"\"\"12. Write a short program that prints the numbers 1 to 10 using a for loop. Then write an equivalent\n",
    "program that prints the numbers 1 to 10 using a while loop.\"\"\"\n",
    "#Use of For Loop\n",
    "print(\"For Loop\")\n",
    "for i in range(1,11):\n",
    "    print(i)\n",
    "#Use of While Loop\n",
    "print(\"While Loop\")\n",
    "a =1\n",
    "while a <= 10:\n",
    "    print(a)\n",
    "    a+=1"
   ]
  },
  {
   "cell_type": "raw",
   "id": "4f6fa4fe",
   "metadata": {},
   "source": [
    "13. If you had a function named bacon() inside a module named spam, how would you call it after\n",
    "importing spam?\n",
    "\n",
    "This function can be called with spam.bacon()."
   ]
  }
 ],
 "metadata": {
  "kernelspec": {
   "display_name": "Python 3 (ipykernel)",
   "language": "python",
   "name": "python3"
  },
  "language_info": {
   "codemirror_mode": {
    "name": "ipython",
    "version": 3
   },
   "file_extension": ".py",
   "mimetype": "text/x-python",
   "name": "python",
   "nbconvert_exporter": "python",
   "pygments_lexer": "ipython3",
   "version": "3.9.12"
  }
 },
 "nbformat": 4,
 "nbformat_minor": 5
}
