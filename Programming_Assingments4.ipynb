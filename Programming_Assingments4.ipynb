{
 "cells": [
  {
   "cell_type": "markdown",
   "id": "4913082a",
   "metadata": {},
   "source": [
    "1)Write a Python Program to Find the Factorial of a Number?"
   ]
  },
  {
   "cell_type": "code",
   "execution_count": 4,
   "id": "e7d86652",
   "metadata": {},
   "outputs": [
    {
     "name": "stdout",
     "output_type": "stream",
     "text": [
      "enter the number: 24\n",
      "1\n",
      "2\n",
      "3\n",
      "4\n",
      "6\n",
      "8\n",
      "12\n",
      "24\n"
     ]
    }
   ],
   "source": [
    "N=int(input(\"enter the number: \"))\n",
    "for i in range(1,N+1):\n",
    "    if N%i==0:\n",
    "        print(i)"
   ]
  },
  {
   "cell_type": "markdown",
   "id": "4afa6355",
   "metadata": {},
   "source": [
    "2)Write a Python Program to Display the multiplication Table?"
   ]
  },
  {
   "cell_type": "code",
   "execution_count": 10,
   "id": "a7652bee",
   "metadata": {},
   "outputs": [
    {
     "name": "stdout",
     "output_type": "stream",
     "text": [
      "enter the table number you want:15\n",
      "15 X 1 = 15\n",
      "15 X 2 = 30\n",
      "15 X 3 = 45\n",
      "15 X 4 = 60\n",
      "15 X 5 = 75\n",
      "15 X 6 = 90\n",
      "15 X 7 = 105\n",
      "15 X 8 = 120\n",
      "15 X 9 = 135\n",
      "15 X 10 = 150\n"
     ]
    }
   ],
   "source": [
    "N=int(input(\"enter the table number you want:\"))\n",
    "for i in range(1,10+1):\n",
    "    s=N*i\n",
    "    print(N,\"X\",i,\"=\",s)"
   ]
  },
  {
   "cell_type": "markdown",
   "id": "fb2bf8aa",
   "metadata": {},
   "source": [
    "3)Write a Python Program to Print the Fibonacci sequence?"
   ]
  },
  {
   "cell_type": "code",
   "execution_count": 11,
   "id": "0a7d1f35",
   "metadata": {},
   "outputs": [
    {
     "name": "stdout",
     "output_type": "stream",
     "text": [
      "enter the number :7\n",
      "0\n",
      "1\n",
      "1\n",
      "2\n",
      "3\n",
      "5\n",
      "8\n"
     ]
    }
   ],
   "source": [
    "N=int(input(\"enter the number :\"))\n",
    "n1,n2=0,1\n",
    "count=0\n",
    "if N<=0:\n",
    "    print(\"enter greater than Zero..\")\n",
    "if N==1:\n",
    "    print(n1)\n",
    "else:\n",
    "    while count<N:\n",
    "        print(n1)\n",
    "        nth=n1+n2\n",
    "        n1=n2\n",
    "        n2=nth\n",
    "        count+=1"
   ]
  },
  {
   "cell_type": "markdown",
   "id": "4839015b",
   "metadata": {},
   "source": [
    "4)Write a Python Program to Check Armstrong Number?"
   ]
  },
  {
   "cell_type": "code",
   "execution_count": 21,
   "id": "0b255d73",
   "metadata": {},
   "outputs": [
    {
     "name": "stdout",
     "output_type": "stream",
     "text": [
      "enter the number :153\n",
      "153 is an Armstrong number\n"
     ]
    }
   ],
   "source": [
    "N=int(input(\"enter the number :\"))\n",
    "s=N\n",
    "sum=0\n",
    "while s>0:\n",
    "    base=s%10\n",
    "    sum+=base**3\n",
    "    s//=10\n",
    "    \n",
    "if N == sum:\n",
    "   print(N,\"is an Armstrong number\")\n",
    "else:\n",
    "   print(N,\"is not an Armstrong number\")\n",
    "    "
   ]
  },
  {
   "cell_type": "markdown",
   "id": "0e2f9257",
   "metadata": {},
   "source": [
    "5)Write a Python Program to Find Armstrong Number in an Interval?"
   ]
  },
  {
   "cell_type": "code",
   "execution_count": 22,
   "id": "1df350dc",
   "metadata": {},
   "outputs": [
    {
     "name": "stdout",
     "output_type": "stream",
     "text": [
      "100 is not an Armstrong number\n",
      "101 is not an Armstrong number\n",
      "102 is not an Armstrong number\n",
      "103 is not an Armstrong number\n",
      "104 is not an Armstrong number\n",
      "105 is not an Armstrong number\n",
      "106 is not an Armstrong number\n",
      "107 is not an Armstrong number\n",
      "108 is not an Armstrong number\n",
      "109 is not an Armstrong number\n",
      "110 is not an Armstrong number\n",
      "111 is not an Armstrong number\n",
      "112 is not an Armstrong number\n",
      "113 is not an Armstrong number\n",
      "114 is not an Armstrong number\n",
      "115 is not an Armstrong number\n",
      "116 is not an Armstrong number\n",
      "117 is not an Armstrong number\n",
      "118 is not an Armstrong number\n",
      "119 is not an Armstrong number\n",
      "120 is not an Armstrong number\n",
      "121 is not an Armstrong number\n",
      "122 is not an Armstrong number\n",
      "123 is not an Armstrong number\n",
      "124 is not an Armstrong number\n",
      "125 is not an Armstrong number\n",
      "126 is not an Armstrong number\n",
      "127 is not an Armstrong number\n",
      "128 is not an Armstrong number\n",
      "129 is not an Armstrong number\n",
      "130 is not an Armstrong number\n",
      "131 is not an Armstrong number\n",
      "132 is not an Armstrong number\n",
      "133 is not an Armstrong number\n",
      "134 is not an Armstrong number\n",
      "135 is not an Armstrong number\n",
      "136 is not an Armstrong number\n",
      "137 is not an Armstrong number\n",
      "138 is not an Armstrong number\n",
      "139 is not an Armstrong number\n",
      "140 is not an Armstrong number\n",
      "141 is not an Armstrong number\n",
      "142 is not an Armstrong number\n",
      "143 is not an Armstrong number\n",
      "144 is not an Armstrong number\n",
      "145 is not an Armstrong number\n",
      "146 is not an Armstrong number\n",
      "147 is not an Armstrong number\n",
      "148 is not an Armstrong number\n",
      "149 is not an Armstrong number\n",
      "150 is not an Armstrong number\n",
      "151 is not an Armstrong number\n",
      "152 is not an Armstrong number\n",
      "153 is an Armstrong number\n",
      "154 is not an Armstrong number\n",
      "155 is not an Armstrong number\n",
      "156 is not an Armstrong number\n",
      "157 is not an Armstrong number\n",
      "158 is not an Armstrong number\n",
      "159 is not an Armstrong number\n",
      "160 is not an Armstrong number\n",
      "161 is not an Armstrong number\n",
      "162 is not an Armstrong number\n",
      "163 is not an Armstrong number\n",
      "164 is not an Armstrong number\n",
      "165 is not an Armstrong number\n",
      "166 is not an Armstrong number\n",
      "167 is not an Armstrong number\n",
      "168 is not an Armstrong number\n",
      "169 is not an Armstrong number\n",
      "170 is not an Armstrong number\n",
      "171 is not an Armstrong number\n",
      "172 is not an Armstrong number\n",
      "173 is not an Armstrong number\n",
      "174 is not an Armstrong number\n",
      "175 is not an Armstrong number\n",
      "176 is not an Armstrong number\n",
      "177 is not an Armstrong number\n",
      "178 is not an Armstrong number\n",
      "179 is not an Armstrong number\n",
      "180 is not an Armstrong number\n",
      "181 is not an Armstrong number\n",
      "182 is not an Armstrong number\n",
      "183 is not an Armstrong number\n",
      "184 is not an Armstrong number\n",
      "185 is not an Armstrong number\n",
      "186 is not an Armstrong number\n",
      "187 is not an Armstrong number\n",
      "188 is not an Armstrong number\n",
      "189 is not an Armstrong number\n",
      "190 is not an Armstrong number\n",
      "191 is not an Armstrong number\n",
      "192 is not an Armstrong number\n",
      "193 is not an Armstrong number\n",
      "194 is not an Armstrong number\n",
      "195 is not an Armstrong number\n",
      "196 is not an Armstrong number\n",
      "197 is not an Armstrong number\n",
      "198 is not an Armstrong number\n",
      "199 is not an Armstrong number\n"
     ]
    }
   ],
   "source": [
    "for N in range(100,200):\n",
    "    s=N\n",
    "    sum=0\n",
    "    while s>0:\n",
    "        base=s%10\n",
    "        sum+=base**3\n",
    "        s//=10\n",
    "\n",
    "    if N == sum:\n",
    "       print(N,\"is an Armstrong number\")\n",
    "    else:\n",
    "       print(N,\"is not an Armstrong number\")\n",
    "    "
   ]
  },
  {
   "cell_type": "markdown",
   "id": "5a1bdd24",
   "metadata": {},
   "source": [
    "6)Write a Python Program to Find the Sum of Natural Numbers?"
   ]
  },
  {
   "cell_type": "code",
   "execution_count": 23,
   "id": "de74d584",
   "metadata": {},
   "outputs": [
    {
     "name": "stdout",
     "output_type": "stream",
     "text": [
      "Enter a number: 16\n",
      "The sum is 136\n"
     ]
    }
   ],
   "source": [
    "num = int(input(\"Enter a number: \"))  \n",
    "  \n",
    "if num < 0:  \n",
    "   print(\"Enter a positive number\")  \n",
    "else:  \n",
    "   sum = 0  \n",
    "     \n",
    "   while(num > 0):  \n",
    "       sum += num  \n",
    "       num -= 1  \n",
    "   print(\"The sum is\",sum)  "
   ]
  },
  {
   "cell_type": "code",
   "execution_count": null,
   "id": "66231f02",
   "metadata": {},
   "outputs": [],
   "source": []
  },
  {
   "cell_type": "code",
   "execution_count": null,
   "id": "b342f216",
   "metadata": {},
   "outputs": [],
   "source": []
  }
 ],
 "metadata": {
  "kernelspec": {
   "display_name": "Python 3 (ipykernel)",
   "language": "python",
   "name": "python3"
  },
  "language_info": {
   "codemirror_mode": {
    "name": "ipython",
    "version": 3
   },
   "file_extension": ".py",
   "mimetype": "text/x-python",
   "name": "python",
   "nbconvert_exporter": "python",
   "pygments_lexer": "ipython3",
   "version": "3.9.7"
  }
 },
 "nbformat": 4,
 "nbformat_minor": 5
}
